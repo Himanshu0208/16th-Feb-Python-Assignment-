{
 "cells": [
  {
   "cell_type": "markdown",
   "id": "13534def-ffcd-44fe-974f-51ca3bee2d27",
   "metadata": {},
   "source": [
    "# __Ques 1__\n",
    "A Database is nothing but a big storing device that stores our data\n",
    "1. __SQL DB :__ SQL databases, also known as relational databases, use structured query language (SQL) to store and retrieve data. SQL databases are based on a table-based schema, where each table represents a particular entity, such as customers or orders. Each row in the table represents a specific instance of that entity, and each column represents a specific attribute or property of that entity. SQL databases are highly scalable and provide ACID (Atomicity, Consistency, Isolation, and Durability) compliance, making them suitable for handling large and complex transactions.\n",
    "2. __NOSQL DB :__ NOSQL Database use a variety of different data models for storing and accessing data, such as document-based, key-value, graph, and column-family databases. NoSQL databases are often used in applications that require flexible data models, fast access to large volumes of data, and high scalability. Unlike SQL databases, NoSQL databases do not use a fixed schema and are often referred to as \"schema-less\". They do not support ACID transactions, but they offer high availability, scalability, and fault tolerance, making them suitable for use in distributed systems and real-time applications."
   ]
  },
  {
   "cell_type": "markdown",
   "id": "e96946a6-5986-40ab-9d15-f3d06813d68e",
   "metadata": {},
   "source": [
    "# __Ques 2__\n",
    "__DDL :__ DDL stands for Data Defniation Language, They are used to create data base schema/architecture.DDL is a set of SQL commands used to create, modify, and delete database structures but not data\n",
    "1. __CREATE :__ This command is used to create the database or its objects (like table, index, function, views, store procedure, and triggers).\n",
    "2. __DROP :__ This command is used to delete objects from the database.\n",
    "3. __ALTER :__ This is used to alter/change the structure of the database.\n",
    "4. __TRUNCATE :__ This is used to remove all records from a table, including all spaces allocated for the records are removed.But not delete the table."
   ]
  },
  {
   "cell_type": "markdown",
   "id": "cb5d43ec-964f-4f9b-a073-fdbf88bc3883",
   "metadata": {},
   "source": [
    "# __Ques 3__\n",
    "__DML :__ DML stands for Data Manupilation Language. They are used to change teh data base,It is the component of the SQL statement that controls access to data and to the database\n",
    "1. __INSERT :__ It is used to insert data into a table.\n",
    "2. __UPDATE :__ It is used to update existing data into a table.\n",
    "3. __DELETE :__ It is used to delete records from a database table."
   ]
  },
  {
   "cell_type": "markdown",
   "id": "09979258-23c5-4a09-894b-599a2a99dd5c",
   "metadata": {},
   "source": [
    "# __Ques 4__\n",
    "__DQL :__ DQL stands for Data Query Language. These statements are used for performing queries on the data within schema objects. The purpose of the DQL Command is to get some schema relation based on the query passed to it.\n",
    "1. __SELECT :__ It is used to retrieve data from the database."
   ]
  },
  {
   "cell_type": "markdown",
   "id": "9fc6d983-f50d-40da-a389-5a8802241bf8",
   "metadata": {},
   "source": [
    "# __Ques 5__\n",
    "1. __Primary Key :__ These are unique in every rows and are used to uniquley define each row, they are unique fro each row and can never be null for any row.\n",
    "2. __Foregin Key :__ These keys are used to link to tables in a Relational Data Base Model(RDBMS), primary key of table1 is treated as foregin key for table2 so that every row of table1 now is linked with table2. If you wan to see teh corresponding value of table1 just use foregin key for searching in table1."
   ]
  },
  {
   "cell_type": "markdown",
   "id": "e3a58354-8285-4f35-a9b2-07f08fb3d9fd",
   "metadata": {},
   "source": [
    "# __Ques 6__\n",
    "1. __cursor() :__ This method returns a pointer in the db so that we can use taht pointer to get the values of table\n",
    "2. __execute() :__ This method is used to execute a given sql query, this method take sthe sql query in form of string."
   ]
  },
  {
   "cell_type": "code",
   "execution_count": null,
   "id": "c69ee4ad-7a48-42e7-8e5c-13cded7e193e",
   "metadata": {},
   "outputs": [],
   "source": [
    "Host = input('Enter your host url ')\n",
    "User = input('Enter your user name ')\n",
    "Password =input('Enter your password ')\n",
    "\n",
    "import mysql.connector \n",
    "mydb = myql.connector.connect(\n",
    "    host=Host,\n",
    "    user=User,\n",
    "    password=Password\n",
    ")\n",
    "mycursor = mydb.cursor()\n",
    "\n",
    "# Code\n",
    "\n",
    "mydb.close()"
   ]
  },
  {
   "cell_type": "markdown",
   "id": "b09b6932-d0e9-4207-be6c-b81aaf3bd6cc",
   "metadata": {},
   "source": [
    "# __Ques 7__\n",
    "The order of execution of SQL clauses in an SQL querry is:\n",
    "1. FROM clause\n",
    "2. ON clause\n",
    "3. OUTER clause\n",
    "4. WHERE clause\n",
    "5. GROUP BY clause\n",
    "6. HAVING clause\n",
    "7. SELECT clause\n",
    "8. DISTINCT clause\n",
    "9. ORDER BY clause\n",
    "10. TOP clause1. "
   ]
  }
 ],
 "metadata": {
  "kernelspec": {
   "display_name": "Python 3 (ipykernel)",
   "language": "python",
   "name": "python3"
  },
  "language_info": {
   "codemirror_mode": {
    "name": "ipython",
    "version": 3
   },
   "file_extension": ".py",
   "mimetype": "text/x-python",
   "name": "python",
   "nbconvert_exporter": "python",
   "pygments_lexer": "ipython3",
   "version": "3.10.8"
  }
 },
 "nbformat": 4,
 "nbformat_minor": 5
}
